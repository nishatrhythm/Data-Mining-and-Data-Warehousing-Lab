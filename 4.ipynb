{
 "cells": [
  {
   "cell_type": "code",
   "execution_count": 1,
   "id": "96305c39-22d8-462c-8768-fb9fa1ef428f",
   "metadata": {},
   "outputs": [],
   "source": [
    "import pandas as pd"
   ]
  },
  {
   "cell_type": "code",
   "execution_count": 2,
   "id": "886921f2-ee4e-4655-adaf-4aa2fdddeb21",
   "metadata": {},
   "outputs": [],
   "source": [
    "# Loading the marks dataset\n",
    "marks_data = pd.read_csv('Marks.csv')"
   ]
  },
  {
   "cell_type": "code",
   "execution_count": 3,
   "id": "a985220f-b949-4b09-9a2f-44edcb20c7dc",
   "metadata": {},
   "outputs": [
    {
     "name": "stdout",
     "output_type": "stream",
     "text": [
      "First and Third Quartiles:\n",
      "       Maths  Physics  Chemistry  English  Biology\n",
      "0.25  54.25    56.25      65.00    59.25    54.25\n",
      "0.75  70.75    93.75      86.75    81.25    87.00\n"
     ]
    }
   ],
   "source": [
    "# a) First and third quartiles of all subjects\n",
    "quartiles = marks_data[['Maths', 'Physics', 'Chemistry', 'English', 'Biology']].quantile([0.25, 0.75])\n",
    "print(\"First and Third Quartiles:\\n\", quartiles)"
   ]
  },
  {
   "cell_type": "code",
   "execution_count": 4,
   "id": "a5cc4c0b-4730-4724-8f74-3ba0fec12d99",
   "metadata": {},
   "outputs": [],
   "source": [
    "# b) Standard deviation and variance of each subject\n",
    "std_dev = marks_data[['Maths', 'Physics', 'Chemistry', 'English', 'Biology']].std()\n",
    "variance = marks_data[['Maths', 'Physics', 'Chemistry', 'English', 'Biology']].var()"
   ]
  },
  {
   "cell_type": "code",
   "execution_count": 5,
   "id": "a3705bf8-b3ab-4955-88b5-b206ac9e1640",
   "metadata": {},
   "outputs": [
    {
     "name": "stdout",
     "output_type": "stream",
     "text": [
      "Standard Deviation:\n",
      " Maths        19.460501\n",
      "Physics      20.661559\n",
      "Chemistry    14.000397\n",
      "English      14.453373\n",
      "Biology      26.998148\n",
      "dtype: float64\n",
      "Variance:\n",
      " Maths        378.711111\n",
      "Physics      426.900000\n",
      "Chemistry    196.011111\n",
      "English      208.900000\n",
      "Biology      728.900000\n",
      "dtype: float64\n"
     ]
    }
   ],
   "source": [
    "print(\"Standard Deviation:\\n\", std_dev)\n",
    "print(\"Variance:\\n\", variance)"
   ]
  },
  {
   "cell_type": "code",
   "execution_count": 6,
   "id": "67447a7c-f44f-423c-8e2a-5bb7a9a67a5c",
   "metadata": {},
   "outputs": [
    {
     "name": "stdout",
     "output_type": "stream",
     "text": [
      "Summary of the data:\n",
      "            Maths    Physics  Chemistry    English    Biology  Economics  \\\n",
      "count  10.000000  10.000000  10.000000  10.000000  10.000000  10.000000   \n",
      "mean   59.600000  72.300000  75.300000  69.700000  64.700000  72.700000   \n",
      "std    19.460501  20.661559  14.000397  14.453373  26.998148  14.629119   \n",
      "min    25.000000  45.000000  52.000000  46.000000  21.000000  52.000000   \n",
      "25%    54.250000  56.250000  65.000000  59.250000  54.250000  58.750000   \n",
      "50%    55.000000  70.000000  78.000000  69.500000  66.500000  76.000000   \n",
      "75%    70.750000  93.750000  86.750000  81.250000  87.000000  86.000000   \n",
      "max    96.000000  96.000000  89.000000  89.000000  96.000000  89.000000   \n",
      "\n",
      "         History   Civics  \n",
      "count  10.000000  10.0000  \n",
      "mean   69.700000  60.5000  \n",
      "std    14.453373  25.3432  \n",
      "min    46.000000   2.0000  \n",
      "25%    59.250000  52.2500  \n",
      "50%    69.500000  63.0000  \n",
      "75%    81.250000  76.2500  \n",
      "max    89.000000  89.0000  \n"
     ]
    }
   ],
   "source": [
    "# c) Summary of the data\n",
    "summary = marks_data.describe()\n",
    "print(\"Summary of the data:\\n\", summary)"
   ]
  }
 ],
 "metadata": {
  "kernelspec": {
   "display_name": "Python 3 (ipykernel)",
   "language": "python",
   "name": "python3"
  },
  "language_info": {
   "codemirror_mode": {
    "name": "ipython",
    "version": 3
   },
   "file_extension": ".py",
   "mimetype": "text/x-python",
   "name": "python",
   "nbconvert_exporter": "python",
   "pygments_lexer": "ipython3",
   "version": "3.13.0"
  }
 },
 "nbformat": 4,
 "nbformat_minor": 5
}
